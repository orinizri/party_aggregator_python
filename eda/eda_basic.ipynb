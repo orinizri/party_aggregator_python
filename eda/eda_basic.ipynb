{
 "cells": [
  {
   "cell_type": "code",
   "execution_count": 3,
   "metadata": {},
   "outputs": [
    {
     "ename": "TypeError",
     "evalue": "DataFrame.__init__() got an unexpected keyword argument 'sep'",
     "output_type": "error",
     "traceback": [
      "\u001b[0;31m---------------------------------------------------------------------------\u001b[0m",
      "\u001b[0;31mTypeError\u001b[0m                                 Traceback (most recent call last)",
      "Cell \u001b[0;32mIn[3], line 10\u001b[0m\n\u001b[1;32m      3\u001b[0m \u001b[38;5;124;03m\"\"\"\u001b[39;00m\n\u001b[1;32m      4\u001b[0m \u001b[38;5;124;03mBasic Exploratory Data Analysis (EDA) functions\u001b[39;00m\n\u001b[1;32m      5\u001b[0m \u001b[38;5;124;03mfor Party Aggregator project.\u001b[39;00m\n\u001b[1;32m      6\u001b[0m \u001b[38;5;124;03m\"\"\"\u001b[39;00m\n\u001b[1;32m      8\u001b[0m \u001b[38;5;28;01mimport\u001b[39;00m\u001b[38;5;250m \u001b[39m\u001b[38;5;21;01mpandas\u001b[39;00m\u001b[38;5;250m \u001b[39m\u001b[38;5;28;01mas\u001b[39;00m\u001b[38;5;250m \u001b[39m\u001b[38;5;21;01mpd\u001b[39;00m\n\u001b[0;32m---> 10\u001b[0m df \u001b[38;5;241m=\u001b[39m \u001b[43mpd\u001b[49m\u001b[38;5;241;43m.\u001b[39;49m\u001b[43mDataFrame\u001b[49m\u001b[43m(\u001b[49m\u001b[43mdata\u001b[49m\u001b[38;5;241;43m=\u001b[39;49m\u001b[38;5;124;43m'\u001b[39;49m\u001b[38;5;124;43m../arrived_pivot.csv\u001b[39;49m\u001b[38;5;124;43m'\u001b[39;49m\u001b[43m,\u001b[49m\u001b[43m \u001b[49m\u001b[43msep\u001b[49m\u001b[38;5;241;43m=\u001b[39;49m\u001b[38;5;124;43m'\u001b[39;49m\u001b[38;5;124;43m,\u001b[39;49m\u001b[38;5;124;43m'\u001b[39;49m\u001b[43m)\u001b[49m\n\u001b[1;32m     11\u001b[0m df\u001b[38;5;241m.\u001b[39mhead()\n\u001b[1;32m     12\u001b[0m \u001b[38;5;28;01mdef\u001b[39;00m\u001b[38;5;250m \u001b[39m\u001b[38;5;21mtop_n_participants\u001b[39m(df: pd\u001b[38;5;241m.\u001b[39mDataFrame, n: \u001b[38;5;28mint\u001b[39m \u001b[38;5;241m=\u001b[39m \u001b[38;5;241m10\u001b[39m) \u001b[38;5;241m-\u001b[39m\u001b[38;5;241m>\u001b[39m pd\u001b[38;5;241m.\u001b[39mDataFrame:\n",
      "\u001b[0;31mTypeError\u001b[0m: DataFrame.__init__() got an unexpected keyword argument 'sep'"
     ]
    }
   ],
   "source": [
    "\"\"\"\n",
    "Basic Exploratory Data Analysis (EDA) functions\n",
    "for Party Aggregator project.\n",
    "\"\"\"\n",
    "\n",
    "import pandas as pd\n",
    "\n",
    "df = pd.DataFrame(data='../arrived_pivot.csv', sep=',')\n",
    "df.head()\n",
    "def top_n_participants(df: pd.DataFrame, n: int = 10) -> pd.DataFrame:\n",
    "    \"\"\"\n",
    "    Return the top N participants by number of arrived True records.\n",
    "\n",
    "    Parameters:\n",
    "    - df: pd.DataFrame - DataFrame containing at least 'full_name' and 'arrived' columns.\n",
    "    - n: int - Number of top participants to return.\n",
    "\n",
    "    Returns:\n",
    "    - pd.DataFrame - Top N participants sorted by number of arrivals.\n",
    "    \"\"\"\n",
    "    if 'full_name' not in df.columns or 'arrived' not in df.columns:\n",
    "        raise ValueError(\"DataFrame must contain 'full_name' and 'arrived' columns.\")\n",
    "\n",
    "    arrived_df = df[df['arrived'] == True]\n",
    "    \n",
    "    top_arrivals = (\n",
    "        arrived_df['full_name']\n",
    "        .value_counts()\n",
    "        .reset_index()\n",
    "        .rename(columns={'index': 'full_name', 'full_name': 'arrival_count'})\n",
    "        .sort_values(by='arrival_count', ascending=False)\n",
    "        .head(n)\n",
    "    )\n",
    "\n",
    "    return top_arrivals\n",
    "\n",
    "\n",
    "def overall_arrival_rate(df: pd.DataFrame) -> float:\n",
    "    \"\"\"\n",
    "    Calculate the overall arrival rate (True arrivals / total records).\n",
    "\n",
    "    Parameters:\n",
    "    - df: pd.DataFrame - DataFrame containing 'arrived' column.\n",
    "\n",
    "    Returns:\n",
    "    - float - Overall arrival percentage.\n",
    "    \"\"\"\n",
    "    if 'arrived' not in df.columns:\n",
    "        raise ValueError(\"DataFrame must contain 'arrived' column.\")\n",
    "\n",
    "    arrival_rate = df['arrived'].mean()\n",
    "    return round(arrival_rate * 100, 2)\n",
    "\n",
    "\n",
    "def participant_duplicate_counts(df: pd.DataFrame) -> pd.DataFrame:\n",
    "    \"\"\"\n",
    "    Count how many times each full name appears in the dataset.\n",
    "\n",
    "    Parameters:\n",
    "    - df: pd.DataFrame - DataFrame containing 'full_name' column.\n",
    "\n",
    "    Returns:\n",
    "    - pd.DataFrame - DataFrame of names and counts.\n",
    "    \"\"\"\n",
    "    if 'full_name' not in df.columns:\n",
    "        raise ValueError(\"DataFrame must contain 'full_name' column.\")\n",
    "\n",
    "    duplicates = (\n",
    "        df['full_name']\n",
    "        .value_counts()\n",
    "        .reset_index()\n",
    "        .rename(columns={'index': 'full_name', 'full_name': 'appearance_count'})\n",
    "        .sort_values(by='appearance_count', ascending=False)\n",
    "    )\n",
    "\n",
    "    return duplicates\n",
    "\n",
    "\n",
    "def summarize_basic_statistics(df: pd.DataFrame) -> None:\n",
    "    \"\"\"\n",
    "    Print basic summary statistics of the dataset.\n",
    "\n",
    "    Parameters:\n",
    "    - df: pd.DataFrame - The full party attendance DataFrame.\n",
    "    \"\"\"\n",
    "    print(f\"📝 Total records: {len(df)}\")\n",
    "    print(f\"🧍‍♂️ Unique participants: {df['full_name'].nunique()}\")\n",
    "    print(f\"📈 Overall arrival rate: {overall_arrival_rate(df)}%\")\n",
    "    print(f\"🎯 Top participants:\\n{top_n_participants(df)}\")"
   ]
  },
  {
   "cell_type": "code",
   "execution_count": null,
   "metadata": {},
   "outputs": [],
   "source": []
  },
  {
   "cell_type": "code",
   "execution_count": 2,
   "metadata": {},
   "outputs": [
    {
     "ename": "TypeError",
     "evalue": "summarize_basic_statistics() missing 1 required positional argument: 'df'",
     "output_type": "error",
     "traceback": [
      "\u001b[0;31m---------------------------------------------------------------------------\u001b[0m",
      "\u001b[0;31mTypeError\u001b[0m                                 Traceback (most recent call last)",
      "Cell \u001b[0;32mIn[2], line 1\u001b[0m\n\u001b[0;32m----> 1\u001b[0m \u001b[43msummarize_basic_statistics\u001b[49m\u001b[43m(\u001b[49m\u001b[43m)\u001b[49m\n",
      "\u001b[0;31mTypeError\u001b[0m: summarize_basic_statistics() missing 1 required positional argument: 'df'"
     ]
    }
   ],
   "source": [
    "# summarize_basic_statistics()"
   ]
  },
  {
   "cell_type": "code",
   "execution_count": null,
   "metadata": {},
   "outputs": [],
   "source": []
  }
 ],
 "metadata": {
  "kernelspec": {
   "display_name": "snap_table",
   "language": "python",
   "name": "python3"
  },
  "language_info": {
   "codemirror_mode": {
    "name": "ipython",
    "version": 3
   },
   "file_extension": ".py",
   "mimetype": "text/x-python",
   "name": "python",
   "nbconvert_exporter": "python",
   "pygments_lexer": "ipython3",
   "version": "3.12.2"
  }
 },
 "nbformat": 4,
 "nbformat_minor": 2
}
